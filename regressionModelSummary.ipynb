{
 "cells": [
  {
   "cell_type": "code",
   "execution_count": null,
   "id": "1b9258b7-245d-4519-8129-41994ebf7bb2",
   "metadata": {},
   "outputs": [],
   "source": [
    "#pip install statsmodels"
   ]
  },
  {
   "cell_type": "code",
   "execution_count": null,
   "id": "60b9457e-e7ed-4de8-8430-7141976e64d4",
   "metadata": {},
   "outputs": [],
   "source": [
    "# Import packages \n",
    "from sklearn.linear_model import LinearRegression \n",
    "from sklearn.model_selection import train_test_split \n",
    "from sklearn.datasets import load_iris \n",
    "\n",
    "# Load the data \n",
    "irisData = load_iris() \n",
    "\n",
    "# Create feature and target arrays \n",
    "X = irisData.data \n",
    "y = irisData.target \n",
    "\n",
    "# Split data into train and test sets \n",
    "X_train, X_test, y_train, y_test = train_test_split( \n",
    "\tX, y, test_size=0.2, random_state=42) \n",
    "\n",
    "model = LinearRegression() \n",
    "\n",
    "model.fit(X_train, y_train) \n",
    "\n",
    "# predicting on the X_test data set \n",
    "print(model.predict(X_test)) \n",
    "\n",
    "# summary of the model \n",
    "print('model intercept :', model.intercept_) \n",
    "print('model coefficients : ', model.coef_) \n",
    "print('Model score : ', model.score(X, y)) \n"
   ]
  },
  {
   "cell_type": "code",
   "execution_count": null,
   "id": "bf10cc62-68f3-4b0b-ae30-5156c9f4d250",
   "metadata": {},
   "outputs": [],
   "source": [
    "# import packages \n",
    "import numpy as np \n",
    "import pandas as pd \n",
    "import statsmodels.formula.api as smf \n",
    "\n",
    "# loading the csv file \n",
    "df = pd.read_csv('headbrain.csv') \n",
    "print(df.head()) \n",
    "print(df.columns)\n",
    "\n",
    "# fitting the model \n",
    "df.columns = ['Head Size(cm^3)', 'Brain Weight(grams)'] \n",
    "model = smf.ols(formula='Head Size(cm^3) ~ Brain Weight(grams)', \n",
    "\t\t\t\tdata=df[df_columns], axis=0).fit() \n",
    "\n",
    "# model summary \n",
    "print(model.summary()) \n"
   ]
  },
  {
   "cell_type": "code",
   "execution_count": null,
   "id": "6f959a5e-f2a2-4d81-8a71-811b171310a6",
   "metadata": {},
   "outputs": [],
   "source": []
  }
 ],
 "metadata": {
  "kernelspec": {
   "display_name": "Python 3 (ipykernel)",
   "language": "python",
   "name": "python3"
  },
  "language_info": {
   "codemirror_mode": {
    "name": "ipython",
    "version": 3
   },
   "file_extension": ".py",
   "mimetype": "text/x-python",
   "name": "python",
   "nbconvert_exporter": "python",
   "pygments_lexer": "ipython3",
   "version": "3.9.6"
  }
 },
 "nbformat": 4,
 "nbformat_minor": 5
}
